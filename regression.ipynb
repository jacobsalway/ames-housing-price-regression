{
 "cells": [
  {
   "cell_type": "markdown",
   "metadata": {},
   "source": [
    "# Ames Housing Price Prediction\n",
    "\n",
    "## Regression\n",
    "\n",
    "In this notebook, I will explore various normal and regularised regression models to determine an effective model for predicting house prices in Ames, Iowa.\n",
    "\n",
    "## Import and clean"
   ]
  },
  {
   "cell_type": "code",
   "execution_count": 109,
   "metadata": {},
   "outputs": [],
   "source": [
    "import pandas as pd\n",
    "import numpy as np\n",
    "import matplotlib.pyplot as plt\n",
    "import seaborn as sns\n",
    "\n",
    "%matplotlib inline"
   ]
  },
  {
   "cell_type": "code",
   "execution_count": 110,
   "metadata": {},
   "outputs": [],
   "source": [
    "# load the data\n",
    "train = pd.read_csv('input/train.csv')\n",
    "test = pd.read_csv('input/test.csv')"
   ]
  },
  {
   "cell_type": "code",
   "execution_count": 111,
   "metadata": {},
   "outputs": [
    {
     "output_type": "stream",
     "name": "stdout",
     "text": "Num null values in training set: 6965\nNum null values in test set: 7000\n"
    },
    {
     "output_type": "execute_result",
     "data": {
      "text/plain": "PoolQC         0.995205\nMiscFeature    0.963014\nAlley          0.937671\nFence          0.807534\nFireplaceQu    0.472603\ndtype: float64"
     },
     "metadata": {},
     "execution_count": 111
    }
   ],
   "source": [
    "# Number of null records\n",
    "print('Num null values in training set:', np.sum(train.isnull().sum()))\n",
    "print('Num null values in test set:', np.sum(test.isnull().sum()))\n",
    "\n",
    "train.isnull().sum().sort_values(ascending=False).apply(lambda x: x / len(train)).head(5)"
   ]
  },
  {
   "cell_type": "code",
   "execution_count": 112,
   "metadata": {},
   "outputs": [
    {
     "output_type": "execute_result",
     "data": {
      "text/plain": "PoolQC         0.997944\nMiscFeature    0.965045\nAlley          0.926662\nFence          0.801234\nFireplaceQu    0.500343\ndtype: float64"
     },
     "metadata": {},
     "execution_count": 112
    }
   ],
   "source": [
    "test.isnull().sum().sort_values(ascending=False).apply(lambda x: x / len(test)).head(5)"
   ]
  },
  {
   "cell_type": "code",
   "execution_count": 113,
   "metadata": {},
   "outputs": [],
   "source": [
    "def cols_startswith(columns, value, exclude=[]):\n",
    "    return [x for x in columns if x.startswith(value) and x not in exclude]\n",
    "\n",
    "def clean(df):\n",
    "    # All except FireplaceQu >80% missing values\n",
    "    cols = ['PoolQC', 'MiscFeature', 'Alley', 'Fence', 'FireplaceQu']\n",
    "    df[cols] = df[cols].fillna('None')\n",
    "\n",
    "    # ~50% missing values - fill with mean\n",
    "    df['LotFrontage'] = df['LotFrontage'].fillna(df['LotFrontage'].mean())\n",
    "\n",
    "    # Garage\n",
    "    garage_num_cols = ['GarageArea', 'GarageCars']\n",
    "    garage_cols = cols_startswith(df.columns, 'Garage', garage_num_cols)\n",
    "    df[garage_cols] = df[garage_cols].fillna('None')\n",
    "    for x in garage_num_cols:\n",
    "        df[x] = df[x].fillna(df[x].mean())\n",
    "    \n",
    "    # Basement\n",
    "    basement_num_cols = ['BsmtFinSF1', 'BsmtFinSF2', 'BsmtFullBath', 'BsmtHalfBath']\n",
    "    basement_cols = cols_startswith(df.columns, 'Bsmt', basement_num_cols)\n",
    "    df[basement_cols] = df[basement_cols].fillna('None')\n",
    "    df[basement_num_cols] = df[basement_num_cols].fillna(0)\n",
    "\n",
    "    # MasVnr\n",
    "    df['MasVnrType'] = df['MasVnrType'].fillna('None')\n",
    "    df['MasVnrArea'] = df['MasVnrArea'].fillna(0)\n",
    "\n",
    "    # For remaining columns, if numerical fill with mean, if categorical/string/object fill with most common\n",
    "    remaining_null_cols = df.columns[df.isnull().any()]\n",
    "    for x in remaining_null_cols:\n",
    "        if df[x].dtype in (np.float64, np.int64):\n",
    "            df[x] = df[x].fillna(df[x].mean())\n",
    "        else:\n",
    "            df[x] = df[x].fillna(df[x].mode().iloc[0])\n",
    "\n",
    "    return df"
   ]
  },
  {
   "cell_type": "code",
   "execution_count": 108,
   "metadata": {},
   "outputs": [
    {
     "output_type": "stream",
     "name": "stdout",
     "text": "Num null values in training set: 0\nNum null values in test set: 0\n"
    }
   ],
   "source": [
    "train, test = clean(train), clean(test)\n",
    "\n",
    "print('Num null values in training set:', np.sum(train.isnull().sum()))\n",
    "print('Num null values in test set:', np.sum(test.isnull().sum()))"
   ]
  }
 ],
 "metadata": {
  "kernelspec": {
   "display_name": "Python 3",
   "language": "python",
   "name": "python3"
  },
  "language_info": {
   "codemirror_mode": {
    "name": "ipython",
    "version": 3
   },
   "file_extension": ".py",
   "mimetype": "text/x-python",
   "name": "python",
   "nbconvert_exporter": "python",
   "pygments_lexer": "ipython3",
   "version": "3.7.6-final"
  }
 },
 "nbformat": 4,
 "nbformat_minor": 4
}